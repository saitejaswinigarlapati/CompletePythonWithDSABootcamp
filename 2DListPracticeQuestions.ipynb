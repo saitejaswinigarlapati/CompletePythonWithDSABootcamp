{
 "cells": [
  {
   "cell_type": "markdown",
   "id": "ac7adb1a",
   "metadata": {},
   "source": [
    "## Pascal's Triangle\n",
    "**Description:**\n",
    "\n",
    "Given an integer numRows, return the first numRows of Pascal's triangle. In Pascal's triangle, each number is the sum of the two numbers directly above it. The first row is row 0, which is [1]."
   ]
  },
  {
   "cell_type": "code",
   "execution_count": 1,
   "id": "98fcac8d",
   "metadata": {},
   "outputs": [
    {
     "data": {
      "text/plain": [
       "[[1], [1, 1], [1, 2, 1], [1, 3, 3, 1], [1, 4, 6, 4, 1]]"
      ]
     },
     "execution_count": 1,
     "metadata": {},
     "output_type": "execute_result"
    }
   ],
   "source": [
    "def generate(numRows):\n",
    "    triangle = []\n",
    "\n",
    "    for i in range(numRows):\n",
    "        row = [1] * (i + 1)\n",
    "        for j in range(1, i):\n",
    "            row[j] = triangle[i - 1][j - 1] + triangle[i - 1][j]\n",
    "        triangle.append(row)\n",
    "\n",
    "    return triangle\n",
    "\n",
    "generate(5)"
   ]
  },
  {
   "cell_type": "markdown",
   "id": "6790d705",
   "metadata": {},
   "source": [
    "## Rotate Image\n",
    "**Description:**\n",
    "\n",
    "You are given an n x n 2D matrix representing an image. Rotate the image by 90 degrees clockwise. The rotation should be done in-place, meaning you have to modify the input matrix directly without using any additional matrix for storage."
   ]
  },
  {
   "cell_type": "code",
   "execution_count": 5,
   "id": "bd7f5090",
   "metadata": {},
   "outputs": [
    {
     "data": {
      "text/plain": [
       "[[15, 13, 2, 5], [14, 3, 4, 1], [12, 6, 8, 9], [16, 7, 10, 11]]"
      ]
     },
     "execution_count": 5,
     "metadata": {},
     "output_type": "execute_result"
    }
   ],
   "source": [
    "def rotate(matrix):\n",
    "    n = len(matrix)\n",
    "    for i in range(n):\n",
    "        for j in range(i + 1, n):\n",
    "            matrix[i][j], matrix[j][i] = matrix[j][i], matrix[i][j]\n",
    "    for row in matrix:\n",
    "        row.reverse()\n",
    "        \n",
    "matrix = [[5, 1, 9, 11],\n",
    "                [2, 4, 8, 10],\n",
    "                [13, 3, 6, 7],\n",
    "                [15, 14, 12, 16]]\n",
    "\n",
    "matrix\n",
    "rotate(matrix)\n",
    "matrix"
   ]
  },
  {
   "cell_type": "markdown",
   "id": "79022662",
   "metadata": {},
   "source": [
    "## Matrix obtained by Rotation or not?\n",
    "**Description:**\n",
    "\n",
    "You are given two n x n binary matrices mat and target. Your task is to determine whether it is possible to make mat equal to target by rotating mat in 90-degree increments (clockwise). You can rotate mat by 90, 180, or 270 degrees, or leave it unchanged."
   ]
  },
  {
   "cell_type": "code",
   "execution_count": 6,
   "id": "0be88b51",
   "metadata": {},
   "outputs": [
    {
     "data": {
      "text/plain": [
       "True"
      ]
     },
     "execution_count": 6,
     "metadata": {},
     "output_type": "execute_result"
    }
   ],
   "source": [
    "def rotate(mat):\n",
    "    return [list(row)[::-1] for row in zip(*mat)]\n",
    "def can_be_rotated(mat, target):\n",
    "    for _ in range(4):\n",
    "        if mat == target:\n",
    "            return True\n",
    "        mat = rotate(mat)\n",
    "    return False\n",
    "\n",
    "mat = [[0, 0, 0], [0, 1, 0], [1, 1, 1]]\n",
    "target = [[1, 1, 1], [0, 1, 0], [0, 0, 0]]\n",
    "can_be_rotated(mat,target)"
   ]
  },
  {
   "cell_type": "markdown",
   "id": "1e2331e7",
   "metadata": {},
   "source": [
    "## Search a 2D Matrix\n",
    "**Description:**\n",
    "\n",
    "You are given an m x n integer matrix matrix with the following two properties:\n",
    "\n",
    "Each row is sorted in non-decreasing order.\n",
    "\n",
    "The first integer of each row is greater than the last integer of the previous row.\n",
    "\n",
    "Write a function that takes an integer target and returns True if target is in matrix, or False otherwise. You must solve this problem with a time complexity better than O(m * n).\n",
    "\n"
   ]
  },
  {
   "cell_type": "code",
   "execution_count": 7,
   "id": "a880c2ea",
   "metadata": {},
   "outputs": [
    {
     "data": {
      "text/plain": [
       "False"
      ]
     },
     "execution_count": 7,
     "metadata": {},
     "output_type": "execute_result"
    }
   ],
   "source": [
    "def search_matrix(matrix, target):\n",
    "    if not matrix or not matrix[0]:\n",
    "        return False\n",
    "\n",
    "    m, n = len(matrix), len(matrix[0])\n",
    "    left, right = 0, m * n - 1\n",
    "\n",
    "    while left <= right:\n",
    "        mid = (left + right) // 2\n",
    "        row = mid // n\n",
    "        col = mid % n\n",
    "        mid_val = matrix[row][col]\n",
    "\n",
    "        if mid_val == target:\n",
    "            return True\n",
    "        elif mid_val < target:\n",
    "            left = mid + 1\n",
    "        else:\n",
    "            right = mid - 1\n",
    "\n",
    "    return False\n",
    "matrix = [[1, 3, 5, 7], \n",
    "                 [10, 11, 16, 20], \n",
    "                 [23, 30, 34, 60]]\n",
    "target = 13\n",
    "\n",
    "search_matrix(matrix,target)"
   ]
  }
 ],
 "metadata": {
  "kernelspec": {
   "display_name": "base",
   "language": "python",
   "name": "python3"
  },
  "language_info": {
   "codemirror_mode": {
    "name": "ipython",
    "version": 3
   },
   "file_extension": ".py",
   "mimetype": "text/x-python",
   "name": "python",
   "nbconvert_exporter": "python",
   "pygments_lexer": "ipython3",
   "version": "3.11.4"
  }
 },
 "nbformat": 4,
 "nbformat_minor": 5
}
