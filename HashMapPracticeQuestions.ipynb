{
 "cells": [
  {
   "cell_type": "markdown",
   "id": "497c336c",
   "metadata": {},
   "source": [
    "## Count Even Odd\n",
    "**Description:**\n",
    "\n",
    "You are given an array *ARR* of integers of size N. Your task is to determine the following:\n",
    "\n",
    "The number of elements that occur an odd number of times in the array.\n",
    "\n",
    "The number of elements that occur an even number of times in the array."
   ]
  },
  {
   "cell_type": "code",
   "execution_count": 1,
   "id": "a1a6be7f",
   "metadata": {},
   "outputs": [
    {
     "name": "stdout",
     "output_type": "stream",
     "text": [
      "(2, 1)\n"
     ]
    }
   ],
   "source": [
    "def count_odd_even_occurrences(ARR):\n",
    "    \"\"\"\n",
    "    Function to count the number of elements that occur an odd number of times\n",
    "    and the number of elements that occur an even number of times.\n",
    "    \n",
    "    :param ARR: List[int] -> The input list of integers\n",
    "    :return: Tuple[int, int] -> A tuple containing two values:\n",
    "            - The number of elements with odd occurrences\n",
    "            - The number of elements with even occurrences\n",
    "    \"\"\"\n",
    "    # TODO: Implement the logic using a hashmap (dictionary)\n",
    "    \n",
    "    dic={}\n",
    "    for i in ARR:\n",
    "        if i in dic:\n",
    "            dic[i]+=1\n",
    "        else:\n",
    "            dic[i]=1\n",
    "        count_odd=0\n",
    "        count_even=0\n",
    "        for i in dic:\n",
    "            if dic[i]%2==0:\n",
    "                count_even+=1\n",
    "            else:\n",
    "                count_odd+=1\n",
    "    return (count_odd,count_even)\n",
    "\n",
    "\n",
    "ls=[1,2,3,2,3,3]\n",
    "print(count_odd_even_occurrences(ls))"
   ]
  },
  {
   "cell_type": "markdown",
   "id": "9262fa74",
   "metadata": {},
   "source": [
    "## Group Anagrams\n",
    "**Description:**\n",
    "\n",
    "You are given an array of strings strs. Your task is to group the anagrams together and return the result. An anagram is a word formed by rearranging the letters of another, using all the original letters exactly once."
   ]
  },
  {
   "cell_type": "code",
   "execution_count": 18,
   "id": "438acc62",
   "metadata": {},
   "outputs": [
    {
     "name": "stdout",
     "output_type": "stream",
     "text": [
      "[['eat', 'tea', 'ate'], ['tan', 'nat'], ['bat']]\n"
     ]
    }
   ],
   "source": [
    "def group_anagrams(strs):\n",
    "    # Core logic for the learner to implement\n",
    "    dic={}\n",
    "    for i in strs:\n",
    "        key=\"\".join(sorted(i))\n",
    "        if key in dic:\n",
    "            dic[key].append(i)\n",
    "        else:\n",
    "            dic[key]=[i]\n",
    "    return list(dic.values())\n",
    "strs = [\"eat\", \"tea\", \"tan\", \"ate\", \"nat\", \"bat\"]\n",
    "print(group_anagrams(strs))"
   ]
  },
  {
   "cell_type": "markdown",
   "id": "1d02af48",
   "metadata": {},
   "source": [
    "## Maximum Frequency Number\n",
    "**Description:**\n",
    "\n",
    "You are given an array of integers where the numbers are in random order. Your task is to write a function to find and return the number that occurs the most times in the given array. If there are two or more numbers with the maximum frequency, return the number that appears first in the array (i.e., the number with the lowest index).\n"
   ]
  },
  {
   "cell_type": "code",
   "execution_count": 33,
   "id": "934befde",
   "metadata": {},
   "outputs": [
    {
     "name": "stdout",
     "output_type": "stream",
     "text": [
      "1\n",
      "6\n"
     ]
    }
   ],
   "source": [
    "def most_frequent_number(arr):\n",
    "    \"\"\"\n",
    "    Function to find and return the number that occurs the most times in the array.\n",
    "    In case of ties, return the number that appears first in the array.\n",
    "    \n",
    "    :param arr: List[int] -> The input list of integers\n",
    "    :return: int -> The most frequent number in the array\n",
    "    \"\"\"\n",
    "    # TODO: Implement the logic using a hashmap (dictionary)\n",
    "    dic={}\n",
    "    for i in arr:\n",
    "        dic[i]=dic.get(i,0)+1\n",
    "        \n",
    "    max_freq = max(dic.values())\n",
    "\n",
    "    for i in arr:\n",
    "        if dic[i] == max_freq:\n",
    "            return i\n",
    "arr = [1, 3, 2, 2, 1, 1, 4, 5, 1]\n",
    "print(most_frequent_number(arr))\n",
    "\n",
    "arr1 = [4, 4, 5, 5, 6, 6, 6]\n",
    "print(most_frequent_number(arr1))\n"
   ]
  },
  {
   "cell_type": "markdown",
   "id": "ada7f187",
   "metadata": {},
   "source": [
    "## Two Sum\n",
    "**Description :**\n",
    "\n",
    "You are given an array of integers nums and an integer target. Your task is to find two distinct indices in the array such that the sum of the elements at these indices equals the given target. You must return the indices in a list, and you can assume that each input has exactly one solution. You may not use the same element twice."
   ]
  },
  {
   "cell_type": "code",
   "execution_count": 42,
   "id": "21721e8a",
   "metadata": {},
   "outputs": [
    {
     "name": "stdout",
     "output_type": "stream",
     "text": [
      "[0, 1]\n"
     ]
    }
   ],
   "source": [
    "def two_sum(nums, target):\n",
    "    \"\"\"\n",
    "    Function to return indices of the two numbers such that they add up to the target.\n",
    "    \n",
    "    :param nums: List[int] -> The input list of integers\n",
    "    :param target: int -> The target sum\n",
    "    :return: List[int] -> A list of two indices whose corresponding elements add up to the target\n",
    "    \"\"\"\n",
    "    # TODO: Implement the logic using a hashmap (dictionary)\n",
    "    dic={}\n",
    "    for i,num in enumerate(nums):\n",
    "        res=target-num\n",
    "        if res in dic:\n",
    "            return [dic[res],i]\n",
    "        dic[num]=i\n",
    "        \n",
    "nums = [2, 7, 11, 15]\n",
    "target = 9\n",
    "print(two_sum(nums,target))"
   ]
  },
  {
   "cell_type": "markdown",
   "id": "0b1e11e2",
   "metadata": {},
   "source": [
    "## Duplicate Number\n",
    "**Description :**\n",
    "\n",
    "You are given an integer array nums. Write a function that returns True if any value appears at least twice in the array and False if every element is distinct.\n",
    "\n",
    "Your task is to implement the solution using a hashmap (Python dictionary)."
   ]
  },
  {
   "cell_type": "code",
   "execution_count": null,
   "id": "bf44f3e8",
   "metadata": {},
   "outputs": [],
   "source": [
    "def contains_duplicate(nums):\n",
    "    \"\"\"\n",
    "    Function to check if the array contains any duplicate elements.\n",
    "    :param nums: List[int] -> The input list of integers\n",
    "    :return: bool -> True if duplicates exist, False otherwise\n",
    "    \"\"\"\n",
    "    # TODO: Implement this function using a hashmap\n",
    "    pass\n",
    "    dic={}\n",
    "    for i in nums:\n",
    "        if i in dic:\n",
    "            return True\n",
    "        dic[i]=1\n",
    "    return False\n"
   ]
  }
 ],
 "metadata": {
  "kernelspec": {
   "display_name": "base",
   "language": "python",
   "name": "python3"
  },
  "language_info": {
   "codemirror_mode": {
    "name": "ipython",
    "version": 3
   },
   "file_extension": ".py",
   "mimetype": "text/x-python",
   "name": "python",
   "nbconvert_exporter": "python",
   "pygments_lexer": "ipython3",
   "version": "3.11.4"
  }
 },
 "nbformat": 4,
 "nbformat_minor": 5
}
