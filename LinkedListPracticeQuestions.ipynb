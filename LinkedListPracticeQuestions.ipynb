{
 "cells": [
  {
   "cell_type": "markdown",
   "id": "ece0d201",
   "metadata": {},
   "source": [
    "## Find the Node Index in Linked List\n",
    "**Description:**\n",
    "\n",
    "You are given the head of a singly linked list and an integer k. Your task is to find the index of the first node in the linked list whose value equals k. If no such node exists, return -1.\n",
    "\n",
    "The index starts at 0 for the head of the list."
   ]
  },
  {
   "cell_type": "code",
   "execution_count": 2,
   "id": "d75f4a60",
   "metadata": {},
   "outputs": [
    {
     "name": "stdout",
     "output_type": "stream",
     "text": [
      "2\n"
     ]
    }
   ],
   "source": [
    "# Definition for singly linked list node.\n",
    "class ListNode:\n",
    "    def __init__(self, val=0, next=None):\n",
    "        self.val = val\n",
    "        self.next = next\n",
    "\n",
    "def find_index(head, k):\n",
    "    current = head\n",
    "    index = 0\n",
    "    while current:\n",
    "        if current.val == k:\n",
    "            return index\n",
    "        current = current.next\n",
    "        index += 1\n",
    "    return -1\n",
    "\n",
    "node4 = ListNode(7)\n",
    "node3 = ListNode(5, node4)\n",
    "node2 = ListNode(3, node3)\n",
    "head = ListNode(1, node2)\n",
    "\n",
    "k = 5\n",
    "result = find_index(head, k)\n",
    "print(result)\n",
    "\n"
   ]
  },
  {
   "cell_type": "markdown",
   "id": "35fb79cb",
   "metadata": {},
   "source": [
    "## Middle of the Linked list\n",
    "**Description:**\n",
    "\n",
    "Given the head of a singly linked list, write a function to return the middle node of the linked list. If there are two middle nodes, return the second middle node."
   ]
  },
  {
   "cell_type": "code",
   "execution_count": 7,
   "id": "1846efea",
   "metadata": {},
   "outputs": [
    {
     "name": "stdout",
     "output_type": "stream",
     "text": [
      "5\n"
     ]
    }
   ],
   "source": [
    "class ListNode:\n",
    "    def __init__(self, val=0, next=None):\n",
    "        self.val = val\n",
    "        self.next = next\n",
    "\n",
    "def find_middle(head):\n",
    "    slow = fast = head\n",
    "    \n",
    "    while fast and fast.next:\n",
    "        slow = slow.next\n",
    "        fast = fast.next.next\n",
    "        \n",
    "    return slow\n",
    "\n",
    "node4 = ListNode(7)\n",
    "node3 = ListNode(5, node4)\n",
    "node2 = ListNode(3, node3)\n",
    "head = ListNode(1, node2)\n",
    "\n",
    "middle=find_middle(head)\n",
    "print(middle.val)"
   ]
  },
  {
   "cell_type": "markdown",
   "id": "2f1133be",
   "metadata": {},
   "source": [
    "## Remove Linked List Elements\n",
    "**Description:**\n",
    "\n",
    "Given the head of a singly linked list and an integer val, write a function to remove all nodes from the linked list that have Node.val equal to val. Return the new head of the modified linked list."
   ]
  },
  {
   "cell_type": "code",
   "execution_count": null,
   "id": "714c9a57",
   "metadata": {},
   "outputs": [],
   "source": [
    "class ListNode:\n",
    "    def __init__(self, val=0, next=None):\n",
    "        self.val = val\n",
    "        self.next = next\n",
    "\n",
    "def remove_elements(head, val):\n",
    "    dummy = ListNode(0)\n",
    "    dummy.next = head\n",
    "    current = dummy\n",
    "    \n",
    "    while current.next:\n",
    "        if current.next.val == val:\n",
    "            current.next = current.next.next\n",
    "        else:\n",
    "            current = current.next\n",
    "            \n",
    "    return dummy.next\n"
   ]
  }
 ],
 "metadata": {
  "kernelspec": {
   "display_name": "base",
   "language": "python",
   "name": "python3"
  },
  "language_info": {
   "codemirror_mode": {
    "name": "ipython",
    "version": 3
   },
   "file_extension": ".py",
   "mimetype": "text/x-python",
   "name": "python",
   "nbconvert_exporter": "python",
   "pygments_lexer": "ipython3",
   "version": "3.11.4"
  }
 },
 "nbformat": 4,
 "nbformat_minor": 5
}
