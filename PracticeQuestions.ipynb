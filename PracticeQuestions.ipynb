{
 "cells": [
  {
   "cell_type": "markdown",
   "id": "61ef7eb0",
   "metadata": {},
   "source": [
    "## Pattern Practice Questions"
   ]
  },
  {
   "cell_type": "markdown",
   "id": "0454654d",
   "metadata": {},
   "source": [
    "# Square of side \"N\"\n",
    "\n",
    "**Problem Description**: You are given an integer n. Your task is to return a square pattern of size n x n made up of the character '*', represented as a list of strings.\n"
   ]
  },
  {
   "cell_type": "code",
   "execution_count": 2,
   "id": "a983dd46",
   "metadata": {},
   "outputs": [
    {
     "name": "stdout",
     "output_type": "stream",
     "text": [
      "['***', '***', '***']\n",
      "['*****', '*****', '*****', '*****', '*****']\n"
     ]
    }
   ],
   "source": [
    "def generate_square(n):\n",
    "    return [n * '*' for i in range(n)]\n",
    "\n",
    "print(generate_square(3))\n",
    "print(generate_square(5))\n",
    "    "
   ]
  },
  {
   "cell_type": "markdown",
   "id": "70c8c7c5",
   "metadata": {},
   "source": [
    "# Hollow Square of side 'N'\n",
    "\n",
    "**Problem Description:** .\n",
    "You are given an integer n. Your task is to return a hallow square of size n x n made up of the character ' * '  , representes as a list of strings. The hollow square has ' * ' on the border , and space ' ' in the middle ( except for side lengths of 1 and 2)"
   ]
  },
  {
   "cell_type": "code",
   "execution_count": 5,
   "id": "27978320",
   "metadata": {},
   "outputs": [
    {
     "name": "stdout",
     "output_type": "stream",
     "text": [
      "\n",
      "\n",
      "\n",
      "\n",
      "\n"
     ]
    },
    {
     "data": {
      "text/plain": [
       "['*****', '*   *', '*   *', '*   *', '*****']"
      ]
     },
     "execution_count": 5,
     "metadata": {},
     "output_type": "execute_result"
    }
   ],
   "source": [
    "def generate_hollow_square(n):\n",
    "    ls=[]\n",
    "    for i in range(n):\n",
    "        s=''\n",
    "        for j in range(n):\n",
    "            if i==0 or i==n-1 or j==0 or j==n-1:\n",
    "                s+='*'\n",
    "            else:\n",
    "                s+=' '\n",
    "        ls.append(s)\n",
    "        print()\n",
    "    return ls\n",
    "generate_hollow_square(5)\n"
   ]
  },
  {
   "cell_type": "markdown",
   "id": "986c70b2",
   "metadata": {},
   "source": [
    "# Rectangle Pattern\n",
    "**Problem Description:** \n",
    "\n",
    "You are given two integers, n and m. Your task is to return a rectangle pattern of ' * ', where n represents the number of rows (length) and m represents the number of columns (breadth).\n",
    "\n"
   ]
  },
  {
   "cell_type": "code",
   "execution_count": 8,
   "id": "ea7dba5a",
   "metadata": {},
   "outputs": [
    {
     "data": {
      "text/plain": [
       "['*****', '*****', '*****']"
      ]
     },
     "execution_count": 8,
     "metadata": {},
     "output_type": "execute_result"
    }
   ],
   "source": [
    "def generate_rectangle(n,m):\n",
    "    ls=[\"*\" * m for i in range(n)]\n",
    "    return ls\n",
    "generate_rectangle(3,5)\n",
    "    "
   ]
  },
  {
   "cell_type": "markdown",
   "id": "3ad3c040",
   "metadata": {},
   "source": [
    "# Right Angled Triangle\n",
    "**Problem Description:**\n",
    "You are given an integer n. Your task is to return a right-angled triangle pattern of ' * ' where each side has n characters, represented as a list of strings. The triangle has ' * ' characters, starting with 1 star in the first row, 2 stars in the second row, and so on until the last row has n stars."
   ]
  },
  {
   "cell_type": "code",
   "execution_count": 9,
   "id": "4fea778d",
   "metadata": {},
   "outputs": [
    {
     "name": "stdout",
     "output_type": "stream",
     "text": [
      "['*', '**', '***', '****', '*****']\n"
     ]
    }
   ],
   "source": [
    "def generate_triangle(n):\n",
    "    return [\"*\" * i for i in range(1,n+1)]\n",
    "\n",
    "print(generate_triangle(5))"
   ]
  },
  {
   "cell_type": "markdown",
   "id": "358f07bc",
   "metadata": {},
   "source": [
    "# Inverted Right Angled Triangle\n",
    "**Problem Description:**\n",
    "You are given an integer n. Your task is to return an inverted right-angled triangle pattern of '*' where each side has n characters, represented as a list of strings. The first row should have n stars, the second row n-1 stars, and so on, until the last row has 1 star.\n",
    "\n"
   ]
  },
  {
   "cell_type": "code",
   "execution_count": 10,
   "id": "1bd385dc",
   "metadata": {},
   "outputs": [
    {
     "name": "stdout",
     "output_type": "stream",
     "text": [
      "['*****', '****', '***', '**', '*']\n"
     ]
    }
   ],
   "source": [
    "def generate_inverted_triangle(n):\n",
    "    return [\"*\" * (n-i) for i in range(n)]\n",
    "\n",
    "print(generate_inverted_triangle(5))"
   ]
  },
  {
   "cell_type": "markdown",
   "id": "73b78b8b",
   "metadata": {},
   "source": [
    "# Right Angled Triangle with Numbers\n",
    "**Problem Description:**\n",
    "You are given an integer n. Your task is to return a right-angled triangle pattern where each row contains repeated digits. The first row contains the number 1 repeated once, the second row contains the number 2 repeated twice, and so on until the nth row contains the number n repeated n times."
   ]
  },
  {
   "cell_type": "code",
   "execution_count": 11,
   "id": "b2e10801",
   "metadata": {},
   "outputs": [
    {
     "name": "stdout",
     "output_type": "stream",
     "text": [
      "['1', '22', '333', '4444', '55555']\n"
     ]
    }
   ],
   "source": [
    "def generate_number_triangle(n):\n",
    "    return [str(i)*i for i in range(1,n+1)]\n",
    "\n",
    "print(generate_number_triangle(5))"
   ]
  },
  {
   "cell_type": "markdown",
   "id": "5d722d3b",
   "metadata": {},
   "source": [
    "# Floyds Triangle\n",
    "**Problem Description:**\n",
    "\n",
    "You are given an integer n. Your task is to return the first n rows of Floyd’s Triangle, represented as a list of strings. Floyd's Triangle is a triangular array of natural numbers where the first row contains 1, the second row contains 2 and 3, the third row contains 4, 5, and 6, and so on."
   ]
  },
  {
   "cell_type": "code",
   "execution_count": 10,
   "id": "5b643b2b",
   "metadata": {},
   "outputs": [
    {
     "data": {
      "text/plain": [
       "['1', '2 3', '4 5 6', '7 8 9 10', '11 12 13 14 15']"
      ]
     },
     "execution_count": 10,
     "metadata": {},
     "output_type": "execute_result"
    }
   ],
   "source": [
    "def generate_floyds_triangle(n):\n",
    "    a=1\n",
    "    ls=[]\n",
    "    for i in range(1,n+1):\n",
    "        s=[]\n",
    "        for j in range(i):\n",
    "            s.append(str(a))\n",
    "            a+=1\n",
    "        ls.append(\" \".join(s))\n",
    "    return ls\n",
    "            \n",
    "generate_floyds_triangle(5)"
   ]
  },
  {
   "cell_type": "markdown",
   "id": "47c43d0b",
   "metadata": {},
   "source": [
    "# Right Angled Triangle II\n",
    "**Problem Description:**\n",
    "You are given an integer n. Your task is to return a right-angled triangle pattern of '*', where each row contains stars aligned to the right. The first row has one star, the second row has two stars, and so on, until the nth row has n stars."
   ]
  },
  {
   "cell_type": "code",
   "execution_count": 12,
   "id": "234f9345",
   "metadata": {},
   "outputs": [
    {
     "data": {
      "text/plain": [
       "['    *', '   **', '  ***', ' ****', '*****']"
      ]
     },
     "execution_count": 12,
     "metadata": {},
     "output_type": "execute_result"
    }
   ],
   "source": [
    "def generate_right_angled_triangle(n):\n",
    "    return [\" \" * (n-i) + \"*\" * i for i in range(1,n+1)]\n",
    "generate_right_angled_triangle(5)"
   ]
  },
  {
   "cell_type": "markdown",
   "id": "3e0f5aed",
   "metadata": {},
   "source": [
    "# Pyramid Pattern\n",
    "**Problem Description:**\n",
    "You are given an integer n. Your task is to return a pyramid pattern of '*' where each side has n rows, represented as a list of strings. The pyramid is centered, with 1 star in the first row, 3 stars in the second row, and so on, increasing by 2 stars per row until the base row has 2n - 1 stars."
   ]
  },
  {
   "cell_type": "code",
   "execution_count": 19,
   "id": "70da72a0",
   "metadata": {},
   "outputs": [
    {
     "data": {
      "text/plain": [
       "['  *  ', ' *** ', '*****']"
      ]
     },
     "execution_count": 19,
     "metadata": {},
     "output_type": "execute_result"
    }
   ],
   "source": [
    "def generate_pyramid(n):\n",
    "    return [\" \" * (n-i-1) + \"*\" * (i*2 +1) + \" \" * (n-i-1) for i in range(n)]\n",
    "\n",
    "generate_pyramid(3)"
   ]
  },
  {
   "cell_type": "markdown",
   "id": "5d836372",
   "metadata": {},
   "source": [
    "# Inverted Pyramid Pattern\n",
    "**Problem Description:**\n",
    "You are given an integer n. Your task is to return an inverted pyramid pattern of '*', where each side has n rows, represented as a list of strings. The first row has 2n - 1 stars, the second row has 2n - 3 stars, and so on, until the last row has 1 star, with each row centered using spaces.\n",
    "\n"
   ]
  },
  {
   "cell_type": "code",
   "execution_count": null,
   "id": "82e78338",
   "metadata": {},
   "outputs": [
    {
     "data": {
      "text/plain": [
       "['*****', ' *** ', '  *  ']"
      ]
     },
     "execution_count": 5,
     "metadata": {},
     "output_type": "execute_result"
    }
   ],
   "source": [
    "def generate_inverted_pyramid(n):\n",
    "    return [\" \" * (n-i) + \"*\" * (i*2 -1) + \" \" * (n-i) for i in range(n,0,-1)]\n",
    "\n",
    "generate_inverted_pyramid(3)"
   ]
  },
  {
   "cell_type": "markdown",
   "id": "fe74acf8",
   "metadata": {},
   "source": [
    "# Diamond Pattern\n",
    "**Problem Description:**\n",
    "You are given an integer n. Your task is to return a diamond pattern of '*' with n rows for the upper part (the widest row will have 2n - 1 stars), and the lower part is the mirrored version of the upper part. Each row should be centered with appropriate spaces."
   ]
  },
  {
   "cell_type": "code",
   "execution_count": 17,
   "id": "963df54b",
   "metadata": {},
   "outputs": [
    {
     "data": {
      "text/plain": [
       "['  *  ', ' *** ', '*****', ' *** ', '  *  ']"
      ]
     },
     "execution_count": 17,
     "metadata": {},
     "output_type": "execute_result"
    }
   ],
   "source": [
    "def generate_diamond(n):\n",
    "    top =[\" \"* (n-i-1) + \"*\"*(i*2+1) +\" \"* (n-i-1) for i in range(n) ]\n",
    "    bottom =[\" \"* (n-i-1) + \"*\" * (2*i +1) + \" \"* (n-i-1) for i in range(n-2,-1,-1)]\n",
    "    return top+bottom\n",
    "\n",
    "generate_diamond(3)"
   ]
  },
  {
   "cell_type": "markdown",
   "id": "1a6da88a",
   "metadata": {},
   "source": [
    "# Sandglass Pattern\n",
    "**Problem Description:**\n",
    "You are given an integer n. Your task is to return a sandglass pattern of '*', where the first row contains 2n - 1 stars and each subsequent row decreases the number of stars by 2, until the last row contains a single star. After reaching the smallest width, the pattern then continues with the same number of stars increasing back to 2n - 1. The stars in each row should be centered."
   ]
  },
  {
   "cell_type": "code",
   "execution_count": null,
   "id": "c3882dbf",
   "metadata": {},
   "outputs": [
    {
     "data": {
      "text/plain": [
       "['*****', ' *** ', '  *  ', ' *** ', '*****']"
      ]
     },
     "execution_count": 21,
     "metadata": {},
     "output_type": "execute_result"
    }
   ],
   "source": [
    "def generate_sandglass(n):\n",
    "    # Your code here\n",
    "    top=[\" \" * (n-i) + \"*\" * (i*2 -1) + \" \" * (n-i) for i in range(n,0,-1)]\n",
    "    bottom=[\" \" * (n-i-1) + \"*\" * (i*2 +1) + \" \" * (n-i-1) for i in range(1,n)]\n",
    "    return top+bottom\n",
    "    \n",
    "generate_sandglass(3)\n"
   ]
  },
  {
   "cell_type": "markdown",
   "id": "ba59606f",
   "metadata": {},
   "source": [
    "# Hollow Right Triangle\n",
    "**Problem Description:**\n",
    "You are given an integer n. Your task is to return a hollow right-angled triangle pattern of '*', where the first and last rows contain stars, while the inner rows contain a star at the beginning and end, with spaces in between. The triangle should be right-aligned."
   ]
  },
  {
   "cell_type": "code",
   "execution_count": 23,
   "id": "412e43e2",
   "metadata": {},
   "outputs": [
    {
     "data": {
      "text/plain": [
       "['*', '* *', '*   *', '*     *', '*********']"
      ]
     },
     "execution_count": 23,
     "metadata": {},
     "output_type": "execute_result"
    }
   ],
   "source": [
    "def hollow_right_triangle(n):\n",
    "    return [\n",
    "        \"*\" if i == 1 else\n",
    "        \"*\" * (2 * n - 1) if i == n else\n",
    "        \"*\" + \" \" * (2 * i - 3) + \"*\"\n",
    "        for i in range(1, n + 1)\n",
    "    ]\n",
    "\n",
    "# Example usage:\n",
    "hollow_right_triangle(5)\n"
   ]
  },
  {
   "cell_type": "markdown",
   "id": "354e1afe",
   "metadata": {},
   "source": [
    "## Functions Practice Questions"
   ]
  },
  {
   "cell_type": "markdown",
   "id": "effd74ff",
   "metadata": {},
   "source": [
    "# Celsius to Fahrenheit\n",
    "**Problem Description:**\n",
    "You are given a temperature in Celsius. Your task is to convert it to Fahrenheit and return the result.\n",
    "\n",
    "Formula:\n",
    "To convert Celsius to Fahrenheit, use the formula:\n",
    "\n",
    "F = (9/5 * C) + 32\n",
    "\n",
    "Where F is the temperature in Fahrenheit and C is the temperature in Celsius."
   ]
  },
  {
   "cell_type": "code",
   "execution_count": 24,
   "id": "779fbcee",
   "metadata": {},
   "outputs": [
    {
     "data": {
      "text/plain": [
       "77.0"
      ]
     },
     "execution_count": 24,
     "metadata": {},
     "output_type": "execute_result"
    }
   ],
   "source": [
    "def celsius_to_fahrenheit(C):\n",
    "    return (9/5 *C)+32\n",
    "\n",
    "celsius_to_fahrenheit(25)"
   ]
  },
  {
   "cell_type": "markdown",
   "id": "ec5b6929",
   "metadata": {},
   "source": [
    "# Area of a Rectangle\n",
    "**Problem Description:**\n",
    "\n",
    "You are given the length and breadth of a rectangle. Your task is to compute and return the area of the rectangle.\n",
    "\n",
    "Formula:\n",
    "\n",
    "To calculate the area of a rectangle:\n",
    "\n",
    "Area=length×breadth"
   ]
  },
  {
   "cell_type": "code",
   "execution_count": 25,
   "id": "7f95e5a6",
   "metadata": {},
   "outputs": [
    {
     "data": {
      "text/plain": [
       "10"
      ]
     },
     "execution_count": 25,
     "metadata": {},
     "output_type": "execute_result"
    }
   ],
   "source": [
    "def area_of_rectangle(length, breadth):\n",
    "    return length*breadth\n",
    "\n",
    "area_of_rectangle(2,5)"
   ]
  },
  {
   "cell_type": "markdown",
   "id": "fb851fea",
   "metadata": {},
   "source": [
    "# Distance covered by a Vehicle\n",
    "**Problem Description:**\n",
    "You are given the speed of a vehicle and the time it has traveled. Your task is to compute and return the distance traveled by the vehicle.\n",
    "\n",
    "Formula:\n",
    "To calculate the distance traveled by a vehicle:\n",
    "\n",
    "Distance=Speed×Time"
   ]
  },
  {
   "cell_type": "code",
   "execution_count": 28,
   "id": "5d679b65",
   "metadata": {},
   "outputs": [
    {
     "data": {
      "text/plain": [
       "121.0"
      ]
     },
     "execution_count": 28,
     "metadata": {},
     "output_type": "execute_result"
    }
   ],
   "source": [
    "def calculate_distance(speed, time):\n",
    "    distance=speed*time\n",
    "    return distance\n",
    "\n",
    "calculate_distance(60.5,2)"
   ]
  },
  {
   "cell_type": "markdown",
   "id": "d64bb50e",
   "metadata": {},
   "source": [
    "# Number of Rounds of Lift\n",
    "**Problem Description:**\n",
    "\n",
    "You are given n, the total number of people, and capacity, the maximum number of people the lift can carry at a time. All people want to go from the ground floor to the top floor. Your task is to calculate the number of rounds the lift has to make to transport all the people to the top floor."
   ]
  },
  {
   "cell_type": "code",
   "execution_count": 29,
   "id": "9afc1ba3",
   "metadata": {},
   "outputs": [
    {
     "data": {
      "text/plain": [
       "4"
      ]
     },
     "execution_count": 29,
     "metadata": {},
     "output_type": "execute_result"
    }
   ],
   "source": [
    "def calculate_lift_rounds(n, capacity):\n",
    "    if n%capacity==0:\n",
    "        no_of_rounds=n//capacity\n",
    "    else:\n",
    "        no_of_rounds=(n//capacity) +1\n",
    "    return no_of_rounds\n",
    "\n",
    "calculate_lift_rounds(10,3)"
   ]
  },
  {
   "cell_type": "markdown",
   "id": "1d8db621",
   "metadata": {},
   "source": [
    "# Line Equation\n",
    "**Problem Description:**\n",
    "\n",
    "You are given the slope m and the y-intercept b of a line, along with a value x. Your task is to calculate and return the value of y using the equation of a line in slope-intercept form:\n",
    "\n",
    "y=mx+b"
   ]
  },
  {
   "cell_type": "code",
   "execution_count": 31,
   "id": "60655af2",
   "metadata": {},
   "outputs": [
    {
     "data": {
      "text/plain": [
       "11"
      ]
     },
     "execution_count": 31,
     "metadata": {},
     "output_type": "execute_result"
    }
   ],
   "source": [
    "def calculate_y(slope, intercept, x):\n",
    "    return slope * x + intercept\n",
    "\n",
    "calculate_y(2,3,4)"
   ]
  },
  {
   "cell_type": "markdown",
   "id": "a3e00eb3",
   "metadata": {},
   "source": [
    "## Mathematics Practice Questions"
   ]
  },
  {
   "cell_type": "markdown",
   "id": "834283e9",
   "metadata": {},
   "source": [
    "# Sum of N Even Natural Numbers\n",
    "**Problem Description:**\n",
    "\n",
    "You are given an integer n. Your task is to calculate and return the sum of the first n even natural numbers. The even natural numbers are: 2, 4, 6, 8, ...\n",
    "\n"
   ]
  },
  {
   "cell_type": "code",
   "execution_count": 33,
   "id": "498c679e",
   "metadata": {},
   "outputs": [
    {
     "data": {
      "text/plain": [
       "12"
      ]
     },
     "execution_count": 33,
     "metadata": {},
     "output_type": "execute_result"
    }
   ],
   "source": [
    "def sum_of_even_numbers(n):\n",
    "    return n*(n+1)\n",
    "\n",
    "sum_of_even_numbers(3)"
   ]
  },
  {
   "cell_type": "markdown",
   "id": "a9220ba5",
   "metadata": {},
   "source": [
    "# Check for Even Number\n",
    "**Problem Description:**\n",
    "\n",
    "You are given an integer n. Your task is to check whether the number is even or not. Return True if the number is even, and False otherwise"
   ]
  },
  {
   "cell_type": "code",
   "execution_count": 34,
   "id": "95704248",
   "metadata": {},
   "outputs": [
    {
     "data": {
      "text/plain": [
       "True"
      ]
     },
     "execution_count": 34,
     "metadata": {},
     "output_type": "execute_result"
    }
   ],
   "source": [
    "def is_even(n):\n",
    "    if n%2==0:\n",
    "        return True\n",
    "    return False\n",
    "\n",
    "is_even(4)"
   ]
  },
  {
   "cell_type": "markdown",
   "id": "96ce582d",
   "metadata": {},
   "source": [
    "# Check for Prime Number\n",
    "**Problem Description:**\n",
    "\n",
    "You are given an integer n. Your task is to check whether the number is prime or not. A prime number is a number greater than 1 that has no divisors other than 1 and itself. Return True if the number is prime, and False otherwise."
   ]
  },
  {
   "cell_type": "code",
   "execution_count": 35,
   "id": "a822a3b8",
   "metadata": {},
   "outputs": [
    {
     "data": {
      "text/plain": [
       "True"
      ]
     },
     "execution_count": 35,
     "metadata": {},
     "output_type": "execute_result"
    }
   ],
   "source": [
    "def is_prime(n):\n",
    "    if n<=1:\n",
    "        return False\n",
    "    if  n==2:\n",
    "        return True\n",
    "    else:\n",
    "        for i in range(2,n):\n",
    "            if n%i==0:\n",
    "                return False\n",
    "        return True\n",
    "    \n",
    "\n",
    "is_prime(5)"
   ]
  },
  {
   "cell_type": "markdown",
   "id": "cfac52a5",
   "metadata": {},
   "source": [
    "# Valid Perfect Square\n",
    "**Problem Description:**\n",
    "\n",
    "You are given a positive integer num. Your task is to check whether num is a perfect square or not. A perfect square is an integer that is the square of an integer (e.g., 1, 4, 9, 16, ...). Return True if num is a perfect square, and False otherwise."
   ]
  },
  {
   "cell_type": "code",
   "execution_count": 36,
   "id": "4edfe0b0",
   "metadata": {},
   "outputs": [
    {
     "data": {
      "text/plain": [
       "True"
      ]
     },
     "execution_count": 36,
     "metadata": {},
     "output_type": "execute_result"
    }
   ],
   "source": [
    "import math\n",
    "\n",
    "def is_perfect_square(n):\n",
    "    if n < 0:\n",
    "        return False\n",
    "    \n",
    "    sqrt_n = int(math.sqrt(n))\n",
    "    return sqrt_n * sqrt_n == n\n",
    "\n",
    "is_perfect_square(25)"
   ]
  },
  {
   "cell_type": "markdown",
   "id": "2de0255e",
   "metadata": {},
   "source": [
    "# Decimal to Binary\n",
    "**Problem Description:**\n",
    "\n",
    "You are given an integer n. Your task is to return its binary representation as a string. Do not use any built-in functions for conversion."
   ]
  },
  {
   "cell_type": "code",
   "execution_count": 39,
   "id": "6623921e",
   "metadata": {},
   "outputs": [
    {
     "name": "stdout",
     "output_type": "stream",
     "text": [
      "101\n",
      "-101\n"
     ]
    }
   ],
   "source": [
    "def int_to_binary(n):\n",
    "    b= bin(abs(n))[2:]\n",
    "    if n<0:\n",
    "        b=\"-\"+b\n",
    "\n",
    "    return b\n",
    "\n",
    "\n",
    "print(int_to_binary(5))\n",
    "print(int_to_binary(-5))"
   ]
  },
  {
   "cell_type": "markdown",
   "id": "59cca8d4",
   "metadata": {},
   "source": [
    "# Binary to Decimal\n",
    "**Problem Description:**\n",
    "\n",
    "You are given a string binary_str representing a binary number. Your task is to convert this binary string to its corresponding decimal integer. Do not use any built-in functions for conversion."
   ]
  },
  {
   "cell_type": "code",
   "execution_count": 40,
   "id": "e0b5681d",
   "metadata": {},
   "outputs": [
    {
     "name": "stdout",
     "output_type": "stream",
     "text": [
      "5\n",
      "13\n"
     ]
    }
   ],
   "source": [
    "def binary_to_decimal(binary_str):\n",
    "    return int(binary_str,2)\n",
    "\n",
    "print(binary_to_decimal(\"101\"))\n",
    "print(binary_to_decimal(\"1101\"))"
   ]
  },
  {
   "cell_type": "markdown",
   "id": "06e00534",
   "metadata": {},
   "source": [
    "# GCD of Two Numbers\n",
    "**Problem Description:**\n",
    "\n",
    "You are given two integers n and m. Your task is to find the GCD of these two numbers. The GCD is the largest positive integer that divides both numbers without leaving a remainder. Do not use any built-in functions and do not use recursion."
   ]
  },
  {
   "cell_type": "code",
   "execution_count": 2,
   "id": "e4ae9067",
   "metadata": {},
   "outputs": [
    {
     "name": "stdout",
     "output_type": "stream",
     "text": [
      "6\n",
      "14\n"
     ]
    }
   ],
   "source": [
    "import math\n",
    "def gcd(n, m):\n",
    "    gcd=math.gcd(n,m)\n",
    "    return gcd\n",
    "\n",
    "\n",
    "print(gcd(48,18))\n",
    "print(gcd(56,98))"
   ]
  },
  {
   "cell_type": "markdown",
   "id": "7084d984",
   "metadata": {},
   "source": [
    "## String Practice Questions"
   ]
  },
  {
   "cell_type": "markdown",
   "id": "8c1ec8d9",
   "metadata": {},
   "source": [
    "# Reverse a string\n",
    "**Problem Description:**\n",
    "\n",
    "You are given a string s. Your task is to return the reversed version of the string.\n",
    "\n"
   ]
  },
  {
   "cell_type": "code",
   "execution_count": 3,
   "id": "7ce5e401",
   "metadata": {},
   "outputs": [
    {
     "name": "stdout",
     "output_type": "stream",
     "text": [
      "olleh\n"
     ]
    }
   ],
   "source": [
    "def reverse_string(s):\n",
    "    a=\"\"\n",
    "    for i in range(len(s)-1,-1,-1):\n",
    "        a+=s[i]\n",
    "    return a\n",
    "        \n",
    "print(reverse_string(\"hello\"))"
   ]
  },
  {
   "cell_type": "markdown",
   "id": "d18fd93a",
   "metadata": {},
   "source": [
    "# Count Vowels in a string\n",
    "**Problem Description:**\n",
    "\n",
    "You are given a string s. Your task is to count the number of vowels (both uppercase and lowercase) in the string and return the total count."
   ]
  },
  {
   "cell_type": "code",
   "execution_count": 7,
   "id": "6871849c",
   "metadata": {},
   "outputs": [
    {
     "name": "stdout",
     "output_type": "stream",
     "text": [
      "3\n"
     ]
    }
   ],
   "source": [
    "def count_vowels(s):\n",
    "    vowles=['a','e','i','o','u']\n",
    "    count=0\n",
    "    for i in s:\n",
    "        if i.lower() in vowles:\n",
    "            count+=1\n",
    "    return count\n",
    "            \n",
    "print(count_vowels(\"Hello ,World!\"))"
   ]
  },
  {
   "cell_type": "markdown",
   "id": "4004f9e6",
   "metadata": {},
   "source": [
    "# Check for same strings\n",
    "**Problem Description:**\n",
    "\n",
    "You are given two strings s and t. Your task is to check if the two strings are equal. Two strings are considered equal if they have the same length and the same characters at each position. You are not allowed to use any built-in string comparison functions."
   ]
  },
  {
   "cell_type": "code",
   "execution_count": null,
   "id": "14ead255",
   "metadata": {},
   "outputs": [
    {
     "name": "stdout",
     "output_type": "stream",
     "text": [
      "True\n"
     ]
    }
   ],
   "source": [
    "def are_equal_strings(s, t):\n",
    "    if s==t:\n",
    "        return True\n",
    "    return False\n",
    "\n",
    "\n",
    "print(are_equal_strings(\"hello\",\"hello\"))\n"
   ]
  },
  {
   "cell_type": "markdown",
   "id": "38b696e7",
   "metadata": {},
   "source": [
    "# Check Palindrome\n",
    "**Problem Description:**\n",
    "\n",
    "You are given a string s. Your task is to check if the string is a palindrome. A string is considered a palindrome if it reads the same forward and backward, ignoring spaces, punctuation, and case."
   ]
  },
  {
   "cell_type": "code",
   "execution_count": 8,
   "id": "2d59b45b",
   "metadata": {},
   "outputs": [
    {
     "name": "stdout",
     "output_type": "stream",
     "text": [
      "True\n",
      "False\n"
     ]
    }
   ],
   "source": [
    "def is_palindrome(s):\n",
    "    s=s.replace(\" \",\"\")\n",
    "    if(s.lower() == s[::-1].lower()):\n",
    "        return True\n",
    "    return False\n",
    "    \n",
    "print(is_palindrome(\"A man a plan a canal panama\"))\n",
    "print(is_palindrome(\"Hello , World!\"))\n"
   ]
  },
  {
   "cell_type": "markdown",
   "id": "28748d7b",
   "metadata": {},
   "source": [
    "# Count words in a string\n",
    "**Problem Description:**\n",
    "\n",
    "You are given a string s. Your task is to count the number of words in the string and return the total count. A word is defined as a sequence of characters separated by spaces."
   ]
  },
  {
   "cell_type": "code",
   "execution_count": null,
   "id": "b96d5d90",
   "metadata": {},
   "outputs": [
    {
     "data": {
      "text/plain": [
       "2"
      ]
     },
     "execution_count": 9,
     "metadata": {},
     "output_type": "execute_result"
    }
   ],
   "source": [
    "def count_words(s):\n",
    "    lst=list(s.split())\n",
    "    return len(lst)\n",
    "count_words(\"Hello ,World!\")\n"
   ]
  },
  {
   "cell_type": "markdown",
   "id": "c32a4406",
   "metadata": {},
   "source": [
    "# Remove Duplicates in a string\n",
    "**Problem Description:**\n",
    "\n",
    "You are given a string s. Your task is to remove duplicate characters from the string while preserving the order of the first occurrences and return the modified string."
   ]
  },
  {
   "cell_type": "code",
   "execution_count": 10,
   "id": "f45773c0",
   "metadata": {},
   "outputs": [
    {
     "data": {
      "text/plain": [
       "'Progamin'"
      ]
     },
     "execution_count": 10,
     "metadata": {},
     "output_type": "execute_result"
    }
   ],
   "source": [
    "def remove_duplicates(s):\n",
    "    a=\"\"\n",
    "    for i in s:\n",
    "        if i not in a:\n",
    "            a+=i\n",
    "    return a\n",
    "\n",
    "remove_duplicates(\"Programming\")"
   ]
  },
  {
   "cell_type": "markdown",
   "id": "16b58bbb",
   "metadata": {},
   "source": [
    "# Count consonants in a string\n",
    "**Problem Description:**\n",
    "\n",
    "You are given a string s. Your task is to count the number of consonants in the string and return the total count. A consonant is any alphabetic character that is not a vowel (a, e, i, o, u)."
   ]
  },
  {
   "cell_type": "code",
   "execution_count": 14,
   "id": "825987ef",
   "metadata": {},
   "outputs": [
    {
     "name": "stdout",
     "output_type": "stream",
     "text": [
      "13\n"
     ]
    },
    {
     "data": {
      "text/plain": [
       "7"
      ]
     },
     "execution_count": 14,
     "metadata": {},
     "output_type": "execute_result"
    }
   ],
   "source": [
    "def count_consonants(s):\n",
    "    v=['a','e','i','o','u']\n",
    "    count=0\n",
    "    for i in s:\n",
    "        if i.lower() not in v and i.isalpha():\n",
    "            count+=1\n",
    "    return count\n",
    "\n",
    "print(count_consonants(\"Python Programming\"))\n",
    "count_consonants(\"Hello, World\")"
   ]
  },
  {
   "cell_type": "markdown",
   "id": "ae049e20",
   "metadata": {},
   "source": [
    "# Check for anagrams\n",
    "**Problem Description:**\n",
    "\n",
    "You are given two strings s and t. Your task is to determine if string t is an anagram of string s. An anagram is a word or phrase formed by rearranging the characters of a different word or phrase, using all the original characters exactly once."
   ]
  },
  {
   "cell_type": "code",
   "execution_count": 20,
   "id": "3566c8c6",
   "metadata": {},
   "outputs": [
    {
     "data": {
      "text/plain": [
       "True"
      ]
     },
     "execution_count": 20,
     "metadata": {},
     "output_type": "execute_result"
    }
   ],
   "source": [
    "def is_anagram(s, t):\n",
    "    s=sorted(s.lower())\n",
    "    t=sorted(t.lower())\n",
    "    if s==t:\n",
    "        return True\n",
    "    return False\n",
    "\n",
    "s=\"anagram\"\n",
    "t=\"Nagaram\"\n",
    "is_anagram(s,t)\n"
   ]
  },
  {
   "cell_type": "markdown",
   "id": "76264396",
   "metadata": {},
   "source": [
    "# Check Subsequence\n",
    "**Problem Description:**\n",
    "\n",
    "You are given two strings s and t. Your task is to determine if string t is a subsequence of string s. A subsequence of a string is a new string that is formed from the original string by deleting some (or no) characters without changing the order of the remaining characters."
   ]
  },
  {
   "cell_type": "code",
   "execution_count": null,
   "id": "161fa019",
   "metadata": {},
   "outputs": [],
   "source": [
    "def is_subsequence(s, t):\n",
    "    c=0\n",
    "    for i in range(len(s)):\n",
    "        if c==len(t):\n",
    "            break\n",
    "        elif s[i] ==t[c]:\n",
    "            c+=1 \n",
    "    return c==len(t)\n",
    "            \n",
    "            \n",
    "            \n",
    "            \n",
    "            "
   ]
  },
  {
   "cell_type": "markdown",
   "id": "e8c795f0",
   "metadata": {},
   "source": [
    "# Length of the Longest Word\n",
    "**Problem Description:**\n",
    "\n",
    "You are given a string s. Your task is to find the length of the longest word in the string. A word is defined as a sequence of characters separated by spaces. Do not use any built-in functions for string manipulation.\n",
    "\n"
   ]
  },
  {
   "cell_type": "code",
   "execution_count": 1,
   "id": "fd9dd5fd",
   "metadata": {},
   "outputs": [
    {
     "name": "stdout",
     "output_type": "stream",
     "text": [
      "5\n"
     ]
    }
   ],
   "source": [
    "def longest_word_length(s):\n",
    "    # Your code here\n",
    "    lst=s.split()\n",
    "    l=0\n",
    "    for i in lst:\n",
    "        lent=len(i)\n",
    "        if l<lent:\n",
    "            l=lent\n",
    "    return l\n",
    "        \n",
    "s=\"The quick brown fox jumps over the lazy dog\"\n",
    "print(longest_word_length(s))"
   ]
  }
 ],
 "metadata": {
  "kernelspec": {
   "display_name": "base",
   "language": "python",
   "name": "python3"
  },
  "language_info": {
   "codemirror_mode": {
    "name": "ipython",
    "version": 3
   },
   "file_extension": ".py",
   "mimetype": "text/x-python",
   "name": "python",
   "nbconvert_exporter": "python",
   "pygments_lexer": "ipython3",
   "version": "3.11.4"
  }
 },
 "nbformat": 4,
 "nbformat_minor": 5
}
