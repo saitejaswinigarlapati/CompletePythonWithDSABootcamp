{
 "cells": [
  {
   "cell_type": "markdown",
   "id": "7b2eff6c",
   "metadata": {},
   "source": [
    "## Maximum Element in a List.\n",
    "**Description:**\n",
    "\n",
    "Given a list of integers, write a function to find the maximum element in the list."
   ]
  },
  {
   "cell_type": "code",
   "execution_count": 2,
   "id": "41cd7e82",
   "metadata": {},
   "outputs": [
    {
     "name": "stdout",
     "output_type": "stream",
     "text": [
      "Max of [3, 5, 2, 9, 6] = 9\n",
      "Max of [-1, -2, -3, -4] = -1\n"
     ]
    }
   ],
   "source": [
    "def find_max_element(lst):\n",
    "    maxnum=max(lst)\n",
    "    return maxnum\n",
    "\n",
    "lst1=[3,5,2,9,6]\n",
    "print(f\"Max of {lst1} = {find_max_element(lst1)}\")\n",
    "\n",
    "lst2= [-1,-2,-3,-4]\n",
    "print(f\"Max of {lst2} = {find_max_element(lst2)}\")\n",
    "\n"
   ]
  },
  {
   "cell_type": "markdown",
   "id": "84744f19",
   "metadata": {},
   "source": [
    "## Sum of Elements in a List\n",
    "**Description:**\n",
    "\n",
    "Given a list of integers, write a function to find the sum of all the elements in the list."
   ]
  },
  {
   "cell_type": "code",
   "execution_count": 4,
   "id": "e3eb7c23",
   "metadata": {},
   "outputs": [
    {
     "name": "stdout",
     "output_type": "stream",
     "text": [
      "Sum of elements in [7] = 7\n",
      "Sum of elements in [-1, -2, -3, -4] = -10\n",
      "Sum of elements in [1, 2, 3, 4, 5] = 15\n"
     ]
    }
   ],
   "source": [
    "def sum_of_elements(lst):\n",
    "    sum=0\n",
    "    for i in lst:\n",
    "        sum+=i\n",
    "    return sum\n",
    "    \n",
    "lst=[7]\n",
    "print(f\"Sum of elements in {lst} = {sum_of_elements(lst)}\")\n",
    "\n",
    "lst2=[-1,-2,-3,-4]\n",
    "print(f\"Sum of elements in {lst2} = {sum_of_elements(lst2)}\")\n",
    "\n",
    "lst3=[1,2,3,4,5]\n",
    "print(f\"Sum of elements in {lst3} = {sum_of_elements(lst3)}\")\n"
   ]
  },
  {
   "cell_type": "markdown",
   "id": "8e03b023",
   "metadata": {},
   "source": [
    "## Palindrome List\n",
    "**Description:**\n",
    "\n",
    "Given a list of integers, determine if it is a palindrome. A list is considered a palindrome if it reads the same forward and backward."
   ]
  },
  {
   "cell_type": "code",
   "execution_count": 5,
   "id": "4d1b639d",
   "metadata": {},
   "outputs": [
    {
     "name": "stdout",
     "output_type": "stream",
     "text": [
      "Is palindrome [7, 8, 9, 8, 7] : True\n",
      "Is palindrome [1, 2, 3, 4, 5] : False\n"
     ]
    }
   ],
   "source": [
    "def is_palindrome(lst):\n",
    "    if lst==lst[::-1]:\n",
    "        return True\n",
    "    else:\n",
    "        return False\n",
    "    \n",
    "lst = [7, 8, 9, 8, 7]\n",
    "print(f\"Is palindrome {lst} : {is_palindrome(lst)}\")\n",
    "lst2 = [1, 2, 3, 4, 5]\n",
    "print(f\"Is palindrome {lst2} : {is_palindrome(lst2)}\")"
   ]
  },
  {
   "cell_type": "markdown",
   "id": "699a1cf5",
   "metadata": {},
   "source": [
    "## Reverse a List\n",
    "**Description:**\n",
    "\n",
    "Given a list of integers, write a function to reverse the order of elements in the list."
   ]
  },
  {
   "cell_type": "code",
   "execution_count": 6,
   "id": "eff3b543",
   "metadata": {},
   "outputs": [
    {
     "name": "stdout",
     "output_type": "stream",
     "text": [
      "Reversed list of [1, 2, 3, 4, 5] : [5, 4, 3, 2, 1]\n",
      "Reversed list of [10, 20, 30] : [30, 20, 10]\n"
     ]
    }
   ],
   "source": [
    "def reverse_list(lst):\n",
    "    reversed_list = lst[::-1]\n",
    "    return reversed_list\n",
    "\n",
    "lst = [1, 2, 3, 4, 5]\n",
    "print(f\"Reversed list of {lst} : {reverse_list(lst)}\")\n",
    "lst2=[10, 20, 30]\n",
    "print(f\"Reversed list of {lst2} : {reverse_list(lst2)}\")\n"
   ]
  },
  {
   "cell_type": "markdown",
   "id": "1f496e55",
   "metadata": {},
   "source": [
    "## Rotate List\n",
    "**Description:**\n",
    "\n",
    "Given a list of integers and an integer D, write a function to rotate the list to the left by D positions."
   ]
  },
  {
   "cell_type": "code",
   "execution_count": 10,
   "id": "c77a4cd3",
   "metadata": {},
   "outputs": [
    {
     "name": "stdout",
     "output_type": "stream",
     "text": [
      "Rotated arr [1, 2, 3, 4, 5] by 2times : [3, 4, 5, 1, 2]\n",
      "Rotated arr [10, 20, 30, 40, 50] by 3times : [40, 50, 10, 20, 30]\n"
     ]
    }
   ],
   "source": [
    "def rotate_left(ARR, D):\n",
    "    ARR[:]=ARR[D:]+ARR[:D]\n",
    "    return ARR\n",
    "\n",
    "ARR1 = [1, 2, 3, 4, 5]\n",
    "D1 = 2\n",
    "print(f\"Rotated arr {ARR1} by {D1}times : {rotate_left(ARR1,D1)}\")\n",
    "\n",
    "\n",
    "ARR2 = [10, 20, 30, 40, 50]\n",
    "D2 = 3\n",
    "print(f\"Rotated arr {ARR2} by {D2}times : {rotate_left(ARR2,D2)}\")"
   ]
  },
  {
   "cell_type": "markdown",
   "id": "541df8e3",
   "metadata": {},
   "source": [
    "## Plus One in the Number\n",
    "**Description:**\n",
    "\n",
    "You are given a large integer represented as an integer array digits, where each digits[i] is the i-th digit of the integer. The digits are ordered from most significant to least significant in left-to-right order. The large integer does not contain any leading zeroes.\n",
    "\n",
    "Write a function to increment the large integer by one and return the resulting array of digits.\n",
    "\n"
   ]
  },
  {
   "cell_type": "code",
   "execution_count": 11,
   "id": "65a7aa8d",
   "metadata": {},
   "outputs": [
    {
     "name": "stdout",
     "output_type": "stream",
     "text": [
      "[1, 2, 3] : [1, 2, 4]\n",
      "[4, 3, 2, 1] : [4, 3, 2, 2]\n",
      "[9, 9, 9] : [1, 0, 0, 0]\n"
     ]
    }
   ],
   "source": [
    "def plus_one(digits):\n",
    "    for j in range(len(digits)-1,-1,-1):\n",
    "            if (digits[j]!=9):\n",
    "                digits[j]+=1\n",
    "                return digits\n",
    "            digits[j]=0\n",
    "    return [1]+digits\n",
    "            \n",
    "digits = [1, 2, 3]\n",
    "print(f\"{digits} : {plus_one(digits)}\")\n",
    "\n",
    "digits1 = [4, 3, 2, 1]\n",
    "print(f\"{digits1} : {plus_one(digits1)}\")\n",
    "\n",
    "digits2 = [9, 9, 9]\n",
    "print(f\"{digits2} : {plus_one(digits2)}\")\n"
   ]
  },
  {
   "cell_type": "markdown",
   "id": "ac187642",
   "metadata": {},
   "source": [
    "## Missing Number\n",
    "**Description:**\n",
    "\n",
    "Given an array nums containing n distinct numbers in the range [0, n], return the only number in the range that is missing from the array.\n",
    "\n"
   ]
  },
  {
   "cell_type": "code",
   "execution_count": null,
   "id": "a94e3ecd",
   "metadata": {},
   "outputs": [
    {
     "name": "stdout",
     "output_type": "stream",
     "text": [
      "Missing nummber in [3, 0, 1] : 2\n",
      "Missing nummber in [0, 1] : 2\n",
      "Missing nummber in [8, 7, 6, 4, 3, 2, 0, 1] : 5\n"
     ]
    }
   ],
   "source": [
    "def find_missing_number(nums):\n",
    "    current_sum=sum(nums)\n",
    "    n=len(nums)\n",
    "    total_sum=int(n*((n+1)/2))\n",
    "    missing_num=total_sum-current_sum\n",
    "    return missing_num\n",
    "\n",
    "nums1 = [3, 0, 1]\n",
    "print(f\"Missing nummber in {nums1} : {find_missing_number(nums1)}\")\n",
    "\n",
    "nums2 = [0, 1]\n",
    "print(f\"Missing nummber in {nums2} : {find_missing_number(nums2)}\")\n",
    "\n",
    "nums3 = [8, 7, 6, 4, 3, 2, 0, 1]\n",
    "print(f\"Missing nummber in {nums3} : {find_missing_number(nums3)}\")\n"
   ]
  },
  {
   "cell_type": "markdown",
   "id": "5c6439da",
   "metadata": {},
   "source": [
    "## Is Array Sorted?\n",
    "**Description:**\n",
    "\n",
    "Write a function that checks whether the given array is sorted in non-decreasing order. The array is considered sorted if every element is less than or equal to the next element."
   ]
  },
  {
   "cell_type": "code",
   "execution_count": 13,
   "id": "3b892254",
   "metadata": {},
   "outputs": [
    {
     "data": {
      "text/plain": [
       "False"
      ]
     },
     "execution_count": 13,
     "metadata": {},
     "output_type": "execute_result"
    }
   ],
   "source": [
    "def is_sorted(arr):\n",
    "    for i in range(1,len(arr)):\n",
    "        if arr[i-1]>arr[i]:\n",
    "            return False\n",
    "    return True\n",
    "arr = [5, 4, 3, 2, 1]\n",
    "is_sorted(arr)"
   ]
  },
  {
   "cell_type": "markdown",
   "id": "1efee2f5",
   "metadata": {},
   "source": [
    "## Move Zeroes\n",
    "**Description:**\n",
    "\n",
    "Given an integer array nums, write a function to move all 0s to the end of the array while maintaining the relative order of the non-zero elements."
   ]
  },
  {
   "cell_type": "code",
   "execution_count": 17,
   "id": "44efca7f",
   "metadata": {},
   "outputs": [
    {
     "name": "stdout",
     "output_type": "stream",
     "text": [
      "[0, 1, 0, 3, 12]\n"
     ]
    },
    {
     "data": {
      "text/plain": [
       "[1, 3, 12, 0, 0]"
      ]
     },
     "execution_count": 17,
     "metadata": {},
     "output_type": "execute_result"
    }
   ],
   "source": [
    "def move_zeroes(nums):\n",
    "    non_zero_pos = 0\n",
    "    for i in range(len(nums)):\n",
    "        if nums[i] != 0:\n",
    "            nums[non_zero_pos] = nums[i]\n",
    "            non_zero_pos += 1\n",
    "    for i in range(non_zero_pos, len(nums)):\n",
    "        nums[i] = 0\n",
    "nums = [0, 1, 0, 3, 12]\n",
    "print(nums)\n",
    "move_zeroes(nums)\n",
    "nums\n"
   ]
  },
  {
   "cell_type": "markdown",
   "id": "b21f0400",
   "metadata": {},
   "source": [
    "## Intersection of two Lists\n",
    "**Description:**\n",
    "\n",
    "Given two integer arrays nums1 and nums2, return an array of their intersection. Each element in the result must be unique, and you may return the result in any order."
   ]
  },
  {
   "cell_type": "code",
   "execution_count": 19,
   "id": "39406de6",
   "metadata": {},
   "outputs": [
    {
     "name": "stdout",
     "output_type": "stream",
     "text": [
      "[]\n",
      "[2]\n"
     ]
    }
   ],
   "source": [
    "def intersection(nums1, nums2):\n",
    "    return list(set(nums1) & set(nums2))\n",
    "nums1 = [1, 2, 3]\n",
    "nums2 = [4, 5, 6]\n",
    "print(intersection(nums1,nums2))\n",
    "\n",
    "nums1 = [1, 2, 2, 1]\n",
    "nums2 = [2, 2]\n",
    "print(intersection(nums1,nums2))\n"
   ]
  },
  {
   "cell_type": "markdown",
   "id": "91e7b90d",
   "metadata": {},
   "source": [
    "## Max Consecutive Ones\n",
    "**Description:**\n",
    "\n",
    "Given a binary array nums, return the maximum number of consecutive 1s in the array."
   ]
  },
  {
   "cell_type": "code",
   "execution_count": 20,
   "id": "e4a67f13",
   "metadata": {},
   "outputs": [
    {
     "name": "stdout",
     "output_type": "stream",
     "text": [
      "0\n",
      "4\n"
     ]
    }
   ],
   "source": [
    "def find_max_consecutive_ones(nums):\n",
    "    max_count = 0\n",
    "    current_count = 0\n",
    "    for num in nums:\n",
    "        if num == 1:\n",
    "            current_count += 1\n",
    "            max_count = max(max_count, current_count)\n",
    "        else:\n",
    "            current_count = 0\n",
    "    return max_count\n",
    "\n",
    "nums = [0, 0, 0, 0]\n",
    "print(find_max_consecutive_ones(nums))\n",
    "nums = [1, 0, 1, 1, 0, 1, 1, 1, 1]\n",
    "print(find_max_consecutive_ones(nums))\n"
   ]
  },
  {
   "cell_type": "markdown",
   "id": "fb1a27e9",
   "metadata": {},
   "source": [
    "## Maximum Subarray Sum\n",
    "**Description:**\n",
    "\n",
    "Given an array arr of length n, consisting of integers, find the sum of the subarray (including an empty subarray) that has the maximum sum among all possible subarrays."
   ]
  },
  {
   "cell_type": "code",
   "execution_count": 21,
   "id": "2549fcf3",
   "metadata": {},
   "outputs": [
    {
     "data": {
      "text/plain": [
       "6"
      ]
     },
     "execution_count": 21,
     "metadata": {},
     "output_type": "execute_result"
    }
   ],
   "source": [
    "def max_subarray_sum(arr):\n",
    "    if not arr:\n",
    "        return 0\n",
    "    max_sum = arr[0]\n",
    "    current_sum = arr[0]\n",
    "\n",
    "    for num in arr[1:]:\n",
    "        current_sum = max(num, current_sum + num)\n",
    "        max_sum = max(max_sum, current_sum)\n",
    "\n",
    "    return max_sum\n",
    "\n",
    "arr = [-2, 1, -3, 4, -1, 2, 1, -5, 4]\n",
    "max_subarray_sum(arr)"
   ]
  }
 ],
 "metadata": {
  "kernelspec": {
   "display_name": "base",
   "language": "python",
   "name": "python3"
  },
  "language_info": {
   "codemirror_mode": {
    "name": "ipython",
    "version": 3
   },
   "file_extension": ".py",
   "mimetype": "text/x-python",
   "name": "python",
   "nbconvert_exporter": "python",
   "pygments_lexer": "ipython3",
   "version": "3.11.4"
  }
 },
 "nbformat": 4,
 "nbformat_minor": 5
}
