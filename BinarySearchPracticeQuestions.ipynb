{
 "cells": [
  {
   "cell_type": "markdown",
   "id": "91ddc480",
   "metadata": {},
   "source": [
    "## Count negative numbers in a sorted matrix\n",
    "**Description:**\n",
    "\n",
    "You are given an m x n matrix grid where each row and column is sorted in non-increasing order. Your task is to return the number of negative numbers present in the matrix."
   ]
  },
  {
   "cell_type": "code",
   "execution_count": 3,
   "id": "d314b16f",
   "metadata": {},
   "outputs": [
    {
     "data": {
      "text/plain": [
       "7"
      ]
     },
     "execution_count": 3,
     "metadata": {},
     "output_type": "execute_result"
    }
   ],
   "source": [
    "def countNegative(grid):\n",
    "    count=0\n",
    "    for i in grid:\n",
    "        for j in i:\n",
    "            if j<0:\n",
    "                count+=1\n",
    "    return count\n",
    "\n",
    "grid=[[4,3,2,1],[3,2,1,-1],[1,1,-1,-2],[-1,-1,-2,-3]]\n",
    "countNegative(grid)\n"
   ]
  },
  {
   "cell_type": "markdown",
   "id": "4a279a78",
   "metadata": {},
   "source": [
    "## Find smallest letter greater than target\n",
    "**Description:**\n",
    "\n",
    "You are given a sorted array of characters letters, sorted in non-decreasing order, and a character target. There are at least two different characters in letters. Your task is to return the smallest character in letters that is lexicographically greater than target. If such a character does not exist, return the first character in letters."
   ]
  },
  {
   "cell_type": "code",
   "execution_count": 4,
   "id": "bcc88f24",
   "metadata": {},
   "outputs": [
    {
     "name": "stdout",
     "output_type": "stream",
     "text": [
      "c\n"
     ]
    }
   ],
   "source": [
    "def next_greatest_letter(letters, target):\n",
    "    for i in letters:\n",
    "        if ord(i)>ord(target):\n",
    "            return i\n",
    "    return letters[0]\n",
    "\n",
    "ls=['c','f','j']\n",
    "target='a'\n",
    "print(next_greatest_letter(ls,target))\n",
    "    \n"
   ]
  },
  {
   "cell_type": "markdown",
   "id": "ceff8a65",
   "metadata": {},
   "source": [
    "## Find First and Last Position of Element in Sorted Array\n",
    "**Description:**\n",
    "\n",
    "Given an array of integers nums sorted in non-decreasing order, and an integer target, find the starting and ending position of the given target value. If target is not found in the array, return [-1, -1]."
   ]
  },
  {
   "cell_type": "code",
   "execution_count": 7,
   "id": "c4c02aa1",
   "metadata": {},
   "outputs": [
    {
     "name": "stdout",
     "output_type": "stream",
     "text": [
      "[3, 4]\n"
     ]
    }
   ],
   "source": [
    "def searchRange(nums, target):\n",
    "    l=[]\n",
    "    for i in range(len(nums)):\n",
    "        if nums[i]==target:\n",
    "            l.append(i)\n",
    "    if l==[]:\n",
    "        return[-1,-1]\n",
    "    return [l[0],l[len(l)-1]]\n",
    "        \n",
    "nums=[5,7,7,8,8,10]\n",
    "target=8\n",
    "print(searchRange(nums,target))\n"
   ]
  },
  {
   "cell_type": "code",
   "execution_count": 8,
   "id": "0826c75c",
   "metadata": {},
   "outputs": [
    {
     "name": "stdout",
     "output_type": "stream",
     "text": [
      "[-1, -1]\n"
     ]
    }
   ],
   "source": [
    "nums=[5,7,7,8,8,10]\n",
    "target=6\n",
    "print(searchRange(nums,target))"
   ]
  },
  {
   "cell_type": "markdown",
   "id": "f295babf",
   "metadata": {},
   "source": [
    "# Minimum in Rotated Sorted Array\n",
    "**Description:**\n",
    "\n",
    "Given a sorted array that has been rotated, find the minimum element in the array. The array was originally sorted in ascending order and then rotated at some pivot."
   ]
  },
  {
   "cell_type": "code",
   "execution_count": 12,
   "id": "18891e7c",
   "metadata": {},
   "outputs": [
    {
     "name": "stdout",
     "output_type": "stream",
     "text": [
      "Min of [4, 5, 6, 7, 0, 1, 2] = 0\n",
      "Min of [11, 13, 15, 17] : 11\n"
     ]
    }
   ],
   "source": [
    "def findMin(arr):\n",
    "    low, high = 0, len(arr) - 1\n",
    "\n",
    "    while low < high:\n",
    "        mid = (low + high) // 2\n",
    "\n",
    "        if arr[mid] > arr[high]:\n",
    "            low = mid + 1  \n",
    "        else:\n",
    "            high = mid\n",
    "\n",
    "    return arr[low]\n",
    "\n",
    "nums=[4,5,6,7,0,1,2]\n",
    "print(f\"Min of {nums} = {findMin(nums)}\")\n",
    "\n",
    "nums2=[11,13,15,17]\n",
    "print(f\"Min of {nums2} : {findMin(nums2)}\")"
   ]
  },
  {
   "cell_type": "markdown",
   "id": "88e63905",
   "metadata": {},
   "source": [
    "# Search in Rotated Sorted Array\n",
    "**Description:**\n",
    "\n",
    "Given a sorted array that has been rotated, find the index of a given target value. The array was originally sorted in ascending order and then rotated at some pivot."
   ]
  },
  {
   "cell_type": "code",
   "execution_count": 20,
   "id": "27b8bb35",
   "metadata": {},
   "outputs": [
    {
     "name": "stdout",
     "output_type": "stream",
     "text": [
      "[4, 5, 6, 7, 0, 1, 2]\n",
      " 0 found at index 4\n",
      " 3 found at index -1\n"
     ]
    }
   ],
   "source": [
    "def search(nums, target):\n",
    "    low, high = 0, len(nums) - 1\n",
    "    while low <= high:\n",
    "        mid = (low + high) // 2\n",
    "        if nums[mid] == target:\n",
    "            return mid\n",
    "        if nums[low] <= nums[mid]:\n",
    "            if nums[low] <= target < nums[mid]:\n",
    "                high = mid - 1\n",
    "            else:\n",
    "                low = mid + 1\n",
    "        else:\n",
    "            if nums[mid] < target <= nums[high]:\n",
    "                low = mid + 1\n",
    "            else:\n",
    "                high = mid - 1\n",
    "    return -1\n",
    "\n",
    "nums=[4,5,6,7,0,1,2]\n",
    "print(nums)\n",
    "target=0\n",
    "print(f\" {target} found at index {search(nums,target)}\")\n",
    "\n",
    "target2=3\n",
    "print(f\" {target2} found at index {search(nums,target2)}\")\n"
   ]
  }
 ],
 "metadata": {
  "kernelspec": {
   "display_name": "base",
   "language": "python",
   "name": "python3"
  },
  "language_info": {
   "codemirror_mode": {
    "name": "ipython",
    "version": 3
   },
   "file_extension": ".py",
   "mimetype": "text/x-python",
   "name": "python",
   "nbconvert_exporter": "python",
   "pygments_lexer": "ipython3",
   "version": "3.11.4"
  }
 },
 "nbformat": 4,
 "nbformat_minor": 5
}
