{
 "cells": [
  {
   "cell_type": "markdown",
   "id": "54012217",
   "metadata": {},
   "source": [
    "## Quick Sort"
   ]
  },
  {
   "cell_type": "code",
   "execution_count": 6,
   "id": "1df9c4a7",
   "metadata": {},
   "outputs": [
    {
     "name": "stdout",
     "output_type": "stream",
     "text": [
      "[1, 2, 3, 4, 5, 6, 7]\n"
     ]
    }
   ],
   "source": [
    "def QuickSort(arr,start,end):\n",
    "    if(start < end):\n",
    "        partitionArr=partition(arr,start,end)\n",
    "        \n",
    "        QuickSort(arr,start,partitionArr-1)\n",
    "        QuickSort(arr,partitionArr+1,end)\n",
    "        \n",
    "def partition(arr,start,end):\n",
    "    pivot=arr[end]\n",
    "    i=start-1\n",
    "    for j in range(start,end):\n",
    "        if(arr[j]<pivot):\n",
    "            i+=1\n",
    "            arr[i],arr[j]=arr[j],arr[i]\n",
    "    arr[i+1],arr[end]=arr[end],arr[i+1]\n",
    "    return i+1\n",
    "\n",
    "a=[4,5,6,7,1,2,3]\n",
    "\n",
    "QuickSort(a,0,6)\n",
    "print(a)\n",
    "    "
   ]
  },
  {
   "cell_type": "markdown",
   "id": "894c9e53",
   "metadata": {},
   "source": [
    "## Quick Selection Sort"
   ]
  },
  {
   "cell_type": "code",
   "execution_count": 15,
   "id": "130ec6b9",
   "metadata": {},
   "outputs": [
    {
     "name": "stdout",
     "output_type": "stream",
     "text": [
      "6\n"
     ]
    }
   ],
   "source": [
    "def partition(arr,start,end):\n",
    "    pivot=arr[end]\n",
    "    i=start-1\n",
    "    for j in range(start,end):\n",
    "        if(arr[j]<pivot):\n",
    "            i+=1\n",
    "            arr[i],arr[j]=arr[j],arr[i]\n",
    "    arr[i+1],arr[end]=arr[end],arr[i+1]\n",
    "    return i+1\n",
    "    \n",
    "def QuickSelectionSort(arr,start,end,k):\n",
    "    if start <= end:\n",
    "        pivot=partition(arr,start,end)\n",
    "        if pivot==k:\n",
    "            return arr[pivot]\n",
    "        elif pivot > k:\n",
    "            return  QuickSelectionSort(arr,start,pivot-1,k)\n",
    "        else:\n",
    "            return QuickSelectionSort(arr,pivot+1,end,k)\n",
    "\n",
    "def KthLargestElement(nums,k):\n",
    "    n=len(nums)\n",
    "    return QuickSelectionSort(nums,0,n-1,n-k)\n",
    "\n",
    "a=[4,5,6,7,1,2,3]\n",
    "print(KthLargestElement(a,2))"
   ]
  }
 ],
 "metadata": {
  "kernelspec": {
   "display_name": "base",
   "language": "python",
   "name": "python3"
  },
  "language_info": {
   "codemirror_mode": {
    "name": "ipython",
    "version": 3
   },
   "file_extension": ".py",
   "mimetype": "text/x-python",
   "name": "python",
   "nbconvert_exporter": "python",
   "pygments_lexer": "ipython3",
   "version": "3.11.4"
  }
 },
 "nbformat": 4,
 "nbformat_minor": 5
}
