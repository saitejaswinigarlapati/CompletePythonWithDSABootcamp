{
 "cells": [
  {
   "cell_type": "markdown",
   "id": "3a9db049",
   "metadata": {},
   "source": [
    "## Valid Paranthesis\n",
    "**Description :**\n",
    "\n",
    "Problem statement You're given a string 'S' consisting of \"{\", \"}\", \"(\", \")\", \"[\" and \"]\" . Return true if the given string 'S' is balanced, else return false. For example: 'S' = \"{}()\". There is always an opening brace before a closing brace i.e. '{' before '}', '(' before '). So the 'S' is Balanced."
   ]
  },
  {
   "cell_type": "code",
   "execution_count": 2,
   "id": "c04b18b2",
   "metadata": {},
   "outputs": [
    {
     "name": "stdout",
     "output_type": "stream",
     "text": [
      "True\n",
      "False\n"
     ]
    }
   ],
   "source": [
    "def is_balanced(S):\n",
    "    stack=[]\n",
    "    mapping={'}':'{',']':'[',')':'('}\n",
    "    \n",
    "    for char in S:\n",
    "        if char in mapping:\n",
    "            top=stack.pop() if stack else '#'\n",
    "            if top != mapping[char]:\n",
    "                return False\n",
    "        else:\n",
    "            stack.append(char)\n",
    "    return not stack\n",
    "\n",
    "S1='[]{}'\n",
    "print(is_balanced(S1))\n",
    "\n",
    "S2='[()}]'\n",
    "print(is_balanced(S2))"
   ]
  },
  {
   "cell_type": "markdown",
   "id": "6bb31c61",
   "metadata": {},
   "source": [
    "## Next Greater Element\n",
    "**Description:**\n",
    "\n",
    "You are given an array a of size n. For each element in the array, find and print the Next Greater Element (NGE). The Next Greater Element for a given element x is the first element that is greater than x on its right side in the array. If no such element exists, return -1 for that position."
   ]
  },
  {
   "cell_type": "code",
   "execution_count": 3,
   "id": "cb3fa6d5",
   "metadata": {},
   "outputs": [
    {
     "name": "stdout",
     "output_type": "stream",
     "text": [
      "[5, 25, 25, -1]\n"
     ]
    }
   ],
   "source": [
    "def next_greater_element(a, n):\n",
    "    # TODO: Implement this function\n",
    "    NGE=[-1]*n\n",
    "    for i in range(n):\n",
    "        for j in range(i+1,n):\n",
    "            if a[i] < a[j]:\n",
    "                NGE[i]=a[j]\n",
    "                break\n",
    "    return NGE\n",
    "\n",
    "a = [4, 5, 2, 25]\n",
    "n = 4\n",
    "\n",
    "print(next_greater_element(a,n))"
   ]
  },
  {
   "cell_type": "markdown",
   "id": "905c0abc",
   "metadata": {},
   "source": [
    "## Remove Consecutive Duplicates\n",
    "**Description :**\n",
    "\n",
    "You are given a string s consisting of lowercase English letters. A duplicate removal consists of choosing two adjacent and equal letters and removing them. We repeatedly make duplicate removals on s until we no longer can. Return the final string after all such duplicate removals have been made. It can be proven that the answer is unique.\n",
    "\n",
    "Example :\n",
    "\n",
    "Input: s = \"abbaca\"\n",
    "\n",
    "Output: \"ca\""
   ]
  },
  {
   "cell_type": "code",
   "execution_count": 14,
   "id": "d726ca33",
   "metadata": {},
   "outputs": [
    {
     "name": "stdout",
     "output_type": "stream",
     "text": [
      "ca\n",
      "ay\n"
     ]
    }
   ],
   "source": [
    "class Solution:\n",
    "    def removeDuplicates(self, s: str) -> str:\n",
    "        #Write your code here\n",
    "        stack=[]\n",
    "        for char in s:\n",
    "            top=stack[-1] if stack else '#'\n",
    "            if char == top:\n",
    "                stack.pop()\n",
    "            else:\n",
    "                stack.append(char)\n",
    "        return \"\".join(stack)\n",
    "    \n",
    "s=Solution()\n",
    "str='abbaca'\n",
    "print(s.removeDuplicates(str))\n",
    "str1='azxxzy'\n",
    "print(s.removeDuplicates(str1))"
   ]
  },
  {
   "cell_type": "markdown",
   "id": "6ffac467",
   "metadata": {},
   "source": [
    "## Reverse Array using Stack\n",
    "**Description:**\n",
    "\n",
    "You are given an array of size n. The task is to reverse the array using a stack. A stack is a Last In First Out (LIFO) data structure, meaning the last element added to the stack will be the first element removed."
   ]
  },
  {
   "cell_type": "code",
   "execution_count": 16,
   "id": "be08faf5",
   "metadata": {},
   "outputs": [
    {
     "name": "stdout",
     "output_type": "stream",
     "text": [
      "[5, 4, 3, 2, 1]\n"
     ]
    }
   ],
   "source": [
    "def reverse_array_using_stack(arr, n):\n",
    "    # TODO: Implement this function\n",
    "    stack=[]\n",
    "    for i in arr:\n",
    "        stack.append(i)\n",
    "    for i in range(n):\n",
    "        arr[i]=stack.pop()\n",
    "    return arr\n",
    "\n",
    "arr=[1,2,3,4,5]\n",
    "n=5\n",
    "print(reverse_array_using_stack(arr,n))"
   ]
  }
 ],
 "metadata": {
  "kernelspec": {
   "display_name": "base",
   "language": "python",
   "name": "python3"
  },
  "language_info": {
   "codemirror_mode": {
    "name": "ipython",
    "version": 3
   },
   "file_extension": ".py",
   "mimetype": "text/x-python",
   "name": "python",
   "nbconvert_exporter": "python",
   "pygments_lexer": "ipython3",
   "version": "3.11.4"
  }
 },
 "nbformat": 4,
 "nbformat_minor": 5
}
